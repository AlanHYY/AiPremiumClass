{
 "cells": [
  {
   "cell_type": "code",
   "execution_count": 6,
   "metadata": {},
   "outputs": [],
   "source": [
    "import os\n",
    "import requests\n",
    "\n",
    "# 自动下载数据集（如果不存在）\n",
    "if not os.path.exists(\"douban_comments_fixed.txt\"):\n",
    "    url = \"https://example.com/douban_comments_fixed.txt\"  # 替换为真实URL\n",
    "    r = requests.get(url)\n",
    "    with open(\"douban_comments_fixed.txt\", \"wb\") as f:\n",
    "        f.write(r.content)\n",
    "\n",
    "        from sklearn.feature_extraction.text import TfidfVectorizer\n",
    "from sklearn.metrics.pairwise import cosine_similarity\n",
    "\n",
    "# 加载数据\n",
    "def load_data(filename):\n",
    "    book_comments = {}\n",
    "    with open(filename, 'r', encoding='utf-8') as f:\n",
    "        for line in f:\n",
    "            book, comment = line.strip().split('\\t')[:2]\n",
    "            book_comments[book] = book_comments.get(book, []) + [comment]\n",
    "    return book_comments\n",
    "\n",
    "# TF-IDF推荐\n",
    "book_comments = load_data(\"douban_comments_fixed.txt\")\n",
    "vectorizer = TfidfVectorizer()\n",
    "tfidf_matrix = vectorizer.fit_transform([' '.join(comms) for comms in book_comments.values()])\n",
    "similarity_matrix = cosine_similarity(tfidf_matrix)\n",
    "   "
   ]
  },
  {
   "cell_type": "code",
   "execution_count": 4,
   "metadata": {},
   "outputs": [
    {
     "name": "stderr",
     "output_type": "stream",
     "text": [
      "Building prefix dict from the default dictionary ...\n",
      "Loading model from cache C:\\Users\\hyy\\AppData\\Local\\Temp\\jieba.cache\n",
      "Loading model cost 0.515 seconds.\n",
      "Prefix dict has been built successfully.\n"
     ]
    }
   ],
   "source": [
    "from rank_bm25 import BM25Okapi\n",
    "import jieba\n",
    "\n",
    "# 中文分词处理\n",
    "tokenized_corpus = [\n",
    "    list(jieba.cut(' '.join(comms))) \n",
    "    for comms in book_comments.values()\n",
    "]\n",
    "bm25 = BM25Okapi(tokenized_corpus)\n",
    "\n",
    "# 查询处理\n",
    "query = \"科幻小说\"\n",
    "tokenized_query = list(jieba.cut(query))\n",
    "scores = bm25.get_scores(tokenized_query)"
   ]
  }
 ],
 "metadata": {
  "kernelspec": {
   "display_name": "base",
   "language": "python",
   "name": "python3"
  },
  "language_info": {
   "codemirror_mode": {
    "name": "ipython",
    "version": 3
   },
   "file_extension": ".py",
   "mimetype": "text/x-python",
   "name": "python",
   "nbconvert_exporter": "python",
   "pygments_lexer": "ipython3",
   "version": "3.12.3"
  }
 },
 "nbformat": 4,
 "nbformat_minor": 2
}
