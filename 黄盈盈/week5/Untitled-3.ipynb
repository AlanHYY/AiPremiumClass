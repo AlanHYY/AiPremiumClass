{
 "cells": [
  {
   "cell_type": "code",
   "execution_count": 2,
   "metadata": {},
   "outputs": [
    {
     "name": "stdout",
     "output_type": "stream",
     "text": [
      "当前工作目录: d:\\1.八斗学院0\\2.复习\n",
      "cooking文件存在: True\n",
      "csv文件存在: True\n",
      "文件前3行: ['__label__sauce __label__cheese How much does potato starch affect a cheese sauce recipe?', '__label__food-safety __label__acidity Dangerous pathogens capable of growing in acidic environments', '__label__cast-iron __label__stove How do I cover up the white spots on my cast iron stove?']\n",
      "第一个模型训练成功\n",
      "训练出错: Unable to avoid copy while creating an array as requested.\n",
      "If using `np.array(obj, copy=False)` replace it with `np.asarray(obj)` to allow a copy when needed (no behavior change in NumPy 1.x).\n",
      "For more details, see https://numpy.org/devdocs/numpy_2_0_migration_guide.html#adapting-to-changes-in-the-copy-keyword.\n",
      "CSV预处理完成\n",
      "第二个模型训练成功\n"
     ]
    }
   ],
   "source": [
    "import fasttext\n",
    "import pandas as pd\n",
    "import os\n",
    "\n",
    "# 1. 检查文件路径\n",
    "print(\"当前工作目录:\", os.getcwd())\n",
    "print(\"cooking文件存在:\", os.path.exists(\"cooking.stackexchange.txt\"))\n",
    "print(\"csv文件存在:\", os.path.exists(\"fake_news.csv\"))\n",
    "\n",
    "# 2. 检查文件格式\n",
    "if os.path.exists(\"cooking.stackexchange.txt\"):\n",
    "    with open(\"cooking.stackexchange.txt\", \"r\", encoding=\"utf-8\") as f:\n",
    "        print(\"文件前3行:\", [line.strip() for line in f.readlines()[:3]])\n",
    "\n",
    "# 3. 训练第一个模型\n",
    "if os.path.exists(\"cooking.stackexchange.txt\"):\n",
    "    try:\n",
    "        model = fasttext.train_supervised(\n",
    "            input=\"cooking.stackexchange.txt\",\n",
    "            epoch=10,\n",
    "            wordNgrams=2\n",
    "        )\n",
    "        print(\"第一个模型训练成功\")\n",
    "        \n",
    "        # 测试\n",
    "        if os.path.exists(\"cooking.valid.txt\"):\n",
    "            print(\"验证结果:\", model.test(\"cooking.valid.txt\"))\n",
    "        print(\"预测示例:\", model.predict(\"How to bake a cake?\", k=2))\n",
    "    except Exception as e:\n",
    "        print(\"训练出错:\", str(e))\n",
    "\n",
    "# 4. 处理CSV数据\n",
    "if os.path.exists(\"fake_news.csv\"):\n",
    "    try:\n",
    "        df = pd.read_csv(\"fake_news.csv\")\n",
    "        # 确保列名正确\n",
    "        if 'label' in df.columns and 'text' in df.columns:\n",
    "            df['formatted_text'] = df.apply(lambda x: f'__label__{x.label} {x.text}', axis=1)\n",
    "            df['formatted_text'].to_csv(\"fake_news.train\", index=False, header=False)\n",
    "            print(\"CSV预处理完成\")\n",
    "            \n",
    "            # 训练第二个模型\n",
    "            model2 = fasttext.train_supervised(\n",
    "                input=\"fake_news.train\",\n",
    "                epoch=15,\n",
    "                wordNgrams=3\n",
    "            )\n",
    "            print(\"第二个模型训练成功\")\n",
    "        else:\n",
    "            print(\"CSV文件缺少必要的列（需要'label'和'text'列）\")\n",
    "    except Exception as e:\n",
    "        print(\"CSV处理出错:\", str(e))\n",
    "else:\n",
    "    print(\"未找到fake_news.csv文件\")"
   ]
  }
 ],
 "metadata": {
  "kernelspec": {
   "display_name": "base",
   "language": "python",
   "name": "python3"
  },
  "language_info": {
   "codemirror_mode": {
    "name": "ipython",
    "version": 3
   },
   "file_extension": ".py",
   "mimetype": "text/x-python",
   "name": "python",
   "nbconvert_exporter": "python",
   "pygments_lexer": "ipython3",
   "version": "3.12.3"
  }
 },
 "nbformat": 4,
 "nbformat_minor": 2
}
