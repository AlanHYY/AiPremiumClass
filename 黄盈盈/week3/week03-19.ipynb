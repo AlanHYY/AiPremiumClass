{
 "cells": [
  {
   "cell_type": "markdown",
   "metadata": {},
   "source": [
    "pytorch fashionmnist 数据集 神经网络搭建和训练"
   ]
  },
  {
   "cell_type": "code",
   "execution_count": 1,
   "metadata": {},
   "outputs": [],
   "source": [
    "#导入必要的包\n",
    "import torch\n",
    "import torch.nn as nn\n",
    "import torch.optim as optim\n",
    "from torchvision.transforms.v2 import ToTensor  #图像的数据转换为张量\n",
    "from torchvision.datasets import KMNIST \n",
    "from torch.utils.data import DataLoader#加载数据"
   ]
  },
  {
   "cell_type": "code",
   "execution_count": 2,
   "metadata": {},
   "outputs": [],
   "source": [
    "#定义超参数\n",
    "LR = 1  # 修正后的列表\n",
    "   \n",
    "epochs = 30\n",
    "BATCH_SIZE = 128"
   ]
  },
  {
   "cell_type": "code",
   "execution_count": 3,
   "metadata": {},
   "outputs": [
    {
     "name": "stderr",
     "output_type": "stream",
     "text": [
      "d:\\tools\\miniconda\\Lib\\site-packages\\torchvision\\transforms\\v2\\_deprecated.py:42: UserWarning: The transform `ToTensor()` is deprecated and will be removed in a future release. Instead, please use `v2.Compose([v2.ToImage(), v2.ToDtype(torch.float32, scale=True)])`.Output is equivalent up to float precision.\n",
      "  warnings.warn(\n"
     ]
    }
   ],
   "source": [
    "# 加载数据集 train\n",
    "train_data = KMNIST (root='./fashion_data', train=True, download=True, transform=ToTensor())\n",
    "test_data = KMNIST (root='./fashion_data', train=False, download=True,transform=ToTensor())\n"
   ]
  },
  {
   "cell_type": "code",
   "execution_count": 4,
   "metadata": {},
   "outputs": [],
   "source": [
    "trian_dl = DataLoader(train_data, batch_size=BATCH_SIZE, shuffle=True)#加载数据"
   ]
  },
  {
   "cell_type": "code",
   "execution_count": 5,
   "metadata": {},
   "outputs": [],
   "source": [
    "#所有结构串联\n",
    "model = nn.Sequential(\n",
    "    nn.Linear(784, 200),\n",
    "    nn.Sigmoid(),\n",
    "    nn.Linear(200, 200),\n",
    "    nn.Sigmoid(),\n",
    "\n",
    "    nn.Linear(200, 10)\n",
    ")"
   ]
  },
  {
   "cell_type": "code",
   "execution_count": 6,
   "metadata": {},
   "outputs": [],
   "source": [
    "loss_fn = nn.CrossEntropyLoss()  #交叉熵损失函数\n",
    "#优化器（模型参数更新）\n",
    "optimizer = torch.optim.SGD(model.parameters(), lr=LR)  #随机梯度下降"
   ]
  },
  {
   "cell_type": "code",
   "execution_count": 7,
   "metadata": {},
   "outputs": [
    {
     "name": "stdout",
     "output_type": "stream",
     "text": [
      "Epoch:0 Loss: 0.7818698883056641\n",
      "Epoch:1 Loss: 0.4225386381149292\n",
      "Epoch:2 Loss: 0.46222397685050964\n",
      "Epoch:3 Loss: 0.18704207241535187\n",
      "Epoch:4 Loss: 0.2564444839954376\n",
      "Epoch:5 Loss: 0.21880917251110077\n",
      "Epoch:6 Loss: 0.13584397733211517\n",
      "Epoch:7 Loss: 0.3631669282913208\n",
      "Epoch:8 Loss: 0.06364087015390396\n",
      "Epoch:9 Loss: 0.04175257682800293\n",
      "Epoch:10 Loss: 0.09364219754934311\n",
      "Epoch:11 Loss: 0.2420624941587448\n",
      "Epoch:12 Loss: 0.1015792116522789\n",
      "Epoch:13 Loss: 0.07724253833293915\n",
      "Epoch:14 Loss: 0.02859026938676834\n",
      "Epoch:15 Loss: 0.02974717505276203\n",
      "Epoch:16 Loss: 0.02295871637761593\n",
      "Epoch:17 Loss: 0.021763743832707405\n",
      "Epoch:18 Loss: 0.03427038714289665\n",
      "Epoch:19 Loss: 0.01907641813158989\n",
      "Epoch:20 Loss: 0.00721697648987174\n",
      "Epoch:21 Loss: 0.0059560672380030155\n",
      "Epoch:22 Loss: 0.004669301677495241\n",
      "Epoch:23 Loss: 0.006950706243515015\n",
      "Epoch:24 Loss: 0.005601306911557913\n",
      "Epoch:25 Loss: 0.00535297766327858\n",
      "Epoch:26 Loss: 0.001471468131057918\n",
      "Epoch:27 Loss: 0.0019213767955079675\n",
      "Epoch:28 Loss: 0.002846836345270276\n",
      "Epoch:29 Loss: 0.005910354200750589\n"
     ]
    }
   ],
   "source": [
    "for epoch in range(epochs):\n",
    "    #提取训练数据\n",
    "  for data, target in trian_dl:\n",
    "        #前向运算\n",
    "        output = model(data.reshape(-1, 784))\n",
    "        #计算损失\n",
    "        loss = loss_fn(output, target)\n",
    "        #反向传播\n",
    "        optimizer.zero_grad()#梯度清零\n",
    "        loss.backward() #计算梯度，保存参数\n",
    "        optimizer.step() #更新参数\n",
    "\n",
    "  print(f'Epoch:{epoch} Loss: {loss.item()}')"
   ]
  },
  {
   "cell_type": "code",
   "execution_count": 8,
   "metadata": {},
   "outputs": [
    {
     "name": "stdout",
     "output_type": "stream",
     "text": [
      "Accuracy: 90.24%\n"
     ]
    }
   ],
   "source": [
    "# 测试\n",
    "test_dl = DataLoader(test_data, batch_size=BATCH_SIZE)\n",
    "\n",
    "correct = 0\n",
    "total = 0\n",
    "with torch.no_grad():  # 不计算梯度\n",
    "    for data, target in test_dl:\n",
    "        output = model(data.reshape(-1, 784))\n",
    "        _, predicted = torch.max(output, 1)  # 返回每行最大值和索引\n",
    "        total += target.size(0)  # size(0) 等效 shape[0]\n",
    "        correct += (predicted == target).sum().item()\n",
    "\n",
    "print(f'Accuracy: {correct/total*100}%')"
   ]
  },
  {
   "cell_type": "code",
   "execution_count": 9,
   "metadata": {},
   "outputs": [
    {
     "name": "stdout",
     "output_type": "stream",
     "text": [
      "Sequential(\n",
      "  (0): Linear(in_features=784, out_features=200, bias=True)\n",
      "  (1): Sigmoid()\n",
      "  (2): Linear(in_features=200, out_features=200, bias=True)\n",
      "  (3): Sigmoid()\n",
      "  (4): Linear(in_features=200, out_features=10, bias=True)\n",
      ")\n"
     ]
    }
   ],
   "source": [
    "print(model)"
   ]
  }
 ],
 "metadata": {
  "kernelspec": {
   "display_name": "base",
   "language": "python",
   "name": "python3"
  },
  "language_info": {
   "codemirror_mode": {
    "name": "ipython",
    "version": 3
   },
   "file_extension": ".py",
   "mimetype": "text/x-python",
   "name": "python",
   "nbconvert_exporter": "python",
   "pygments_lexer": "ipython3",
   "version": "3.12.3"
  }
 },
 "nbformat": 4,
 "nbformat_minor": 2
}
