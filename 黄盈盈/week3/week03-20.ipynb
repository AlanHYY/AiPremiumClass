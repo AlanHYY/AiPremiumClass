{
 "cells": [
  {
   "cell_type": "markdown",
   "metadata": {},
   "source": [
    "pytorch fashionmnist 数据集 神经网络搭建和训练"
   ]
  },
  {
   "cell_type": "code",
   "execution_count": 1,
   "metadata": {},
   "outputs": [],
   "source": [
    "#导入必要的包\n",
    "import torch\n",
    "import torch.nn as nn\n",
    "import torch.optim as optim\n",
    "from torchvision.transforms.v2 import ToTensor  #图像的数据转换为张量\n",
    "from torchvision.datasets import KMNIST \n",
    "from torch.utils.data import DataLoader#加载数据"
   ]
  },
  {
   "cell_type": "code",
   "execution_count": 2,
   "metadata": {},
   "outputs": [],
   "source": [
    "#定义超参数\n",
    "LR = 1  # 修正后的列表\n",
    "   \n",
    "epochs = 40\n",
    "BATCH_SIZE = 128"
   ]
  },
  {
   "cell_type": "code",
   "execution_count": 3,
   "metadata": {},
   "outputs": [
    {
     "name": "stderr",
     "output_type": "stream",
     "text": [
      "d:\\tools\\miniconda\\Lib\\site-packages\\torchvision\\transforms\\v2\\_deprecated.py:42: UserWarning: The transform `ToTensor()` is deprecated and will be removed in a future release. Instead, please use `v2.Compose([v2.ToImage(), v2.ToDtype(torch.float32, scale=True)])`.Output is equivalent up to float precision.\n",
      "  warnings.warn(\n"
     ]
    }
   ],
   "source": [
    "# 加载数据集 train\n",
    "train_data = KMNIST (root='./fashion_data', train=True, download=True, transform=ToTensor())\n",
    "test_data = KMNIST (root='./fashion_data', train=False, download=True,transform=ToTensor())\n"
   ]
  },
  {
   "cell_type": "code",
   "execution_count": 4,
   "metadata": {},
   "outputs": [],
   "source": [
    "trian_dl = DataLoader(train_data, batch_size=BATCH_SIZE, shuffle=True)#加载数据"
   ]
  },
  {
   "cell_type": "code",
   "execution_count": 5,
   "metadata": {},
   "outputs": [],
   "source": [
    "#所有结构串联\n",
    "model = nn.Sequential(\n",
    "    nn.Linear(784, 200),\n",
    "    nn.Sigmoid(),\n",
    "    nn.Linear(200, 200),\n",
    "    nn.Sigmoid(),\n",
    "\n",
    "    nn.Linear(200, 10)\n",
    ")"
   ]
  },
  {
   "cell_type": "code",
   "execution_count": 6,
   "metadata": {},
   "outputs": [],
   "source": [
    "loss_fn = nn.CrossEntropyLoss()  #交叉熵损失函数\n",
    "#优化器（模型参数更新）\n",
    "optimizer = torch.optim.SGD(model.parameters(), lr=LR)  #随机梯度下降"
   ]
  },
  {
   "cell_type": "code",
   "execution_count": 7,
   "metadata": {},
   "outputs": [
    {
     "name": "stdout",
     "output_type": "stream",
     "text": [
      "Epoch:0 Loss: 0.8056184649467468\n",
      "Epoch:1 Loss: 0.44097527861595154\n",
      "Epoch:2 Loss: 0.3235926628112793\n",
      "Epoch:3 Loss: 0.3247924745082855\n",
      "Epoch:4 Loss: 0.18057167530059814\n",
      "Epoch:5 Loss: 0.24072885513305664\n",
      "Epoch:6 Loss: 0.12800569832324982\n",
      "Epoch:7 Loss: 0.17356087267398834\n",
      "Epoch:8 Loss: 0.04259283468127251\n",
      "Epoch:9 Loss: 0.1077401340007782\n",
      "Epoch:10 Loss: 0.11542585492134094\n",
      "Epoch:11 Loss: 0.04466245695948601\n",
      "Epoch:12 Loss: 0.09946142882108688\n",
      "Epoch:13 Loss: 0.04796962812542915\n",
      "Epoch:14 Loss: 0.07018082588911057\n",
      "Epoch:15 Loss: 0.024978647008538246\n",
      "Epoch:16 Loss: 0.1293366402387619\n",
      "Epoch:17 Loss: 0.013643160462379456\n",
      "Epoch:18 Loss: 0.024334559217095375\n",
      "Epoch:19 Loss: 0.014013711363077164\n",
      "Epoch:20 Loss: 0.009300317615270615\n",
      "Epoch:21 Loss: 0.010430918075144291\n",
      "Epoch:22 Loss: 0.01100966427475214\n",
      "Epoch:23 Loss: 0.008867595344781876\n",
      "Epoch:24 Loss: 0.004300971049815416\n",
      "Epoch:25 Loss: 0.004695272538810968\n",
      "Epoch:26 Loss: 0.004864230286329985\n",
      "Epoch:27 Loss: 0.0019528899574652314\n",
      "Epoch:28 Loss: 0.003903103992342949\n",
      "Epoch:29 Loss: 0.003251207061111927\n",
      "Epoch:30 Loss: 0.0037628409918397665\n",
      "Epoch:31 Loss: 0.0030820518732070923\n",
      "Epoch:32 Loss: 0.002571964403614402\n",
      "Epoch:33 Loss: 0.002934075193479657\n",
      "Epoch:34 Loss: 0.0018993559060618281\n",
      "Epoch:35 Loss: 0.002237758133560419\n",
      "Epoch:36 Loss: 0.0014857208589091897\n",
      "Epoch:37 Loss: 0.0006327778683044016\n",
      "Epoch:38 Loss: 0.0009329808526672423\n",
      "Epoch:39 Loss: 0.0007410511025227606\n"
     ]
    }
   ],
   "source": [
    "for epoch in range(epochs):\n",
    "    #提取训练数据\n",
    "  for data, target in trian_dl:\n",
    "        #前向运算\n",
    "        output = model(data.reshape(-1, 784))\n",
    "        #计算损失\n",
    "        loss = loss_fn(output, target)\n",
    "        #反向传播\n",
    "        optimizer.zero_grad()#梯度清零\n",
    "        loss.backward() #计算梯度，保存参数\n",
    "        optimizer.step() #更新参数\n",
    "\n",
    "  print(f'Epoch:{epoch} Loss: {loss.item()}')"
   ]
  },
  {
   "cell_type": "code",
   "execution_count": 8,
   "metadata": {},
   "outputs": [
    {
     "name": "stdout",
     "output_type": "stream",
     "text": [
      "Accuracy: 89.9%\n"
     ]
    }
   ],
   "source": [
    "# 测试\n",
    "test_dl = DataLoader(test_data, batch_size=BATCH_SIZE)\n",
    "\n",
    "correct = 0\n",
    "total = 0\n",
    "with torch.no_grad():  # 不计算梯度\n",
    "    for data, target in test_dl:\n",
    "        output = model(data.reshape(-1, 784))\n",
    "        _, predicted = torch.max(output, 1)  # 返回每行最大值和索引\n",
    "        total += target.size(0)  # size(0) 等效 shape[0]\n",
    "        correct += (predicted == target).sum().item()\n",
    "\n",
    "print(f'Accuracy: {correct/total*100}%')"
   ]
  },
  {
   "cell_type": "code",
   "execution_count": 9,
   "metadata": {},
   "outputs": [
    {
     "name": "stdout",
     "output_type": "stream",
     "text": [
      "Sequential(\n",
      "  (0): Linear(in_features=784, out_features=200, bias=True)\n",
      "  (1): Sigmoid()\n",
      "  (2): Linear(in_features=200, out_features=200, bias=True)\n",
      "  (3): Sigmoid()\n",
      "  (4): Linear(in_features=200, out_features=10, bias=True)\n",
      ")\n"
     ]
    }
   ],
   "source": [
    "print(model)"
   ]
  }
 ],
 "metadata": {
  "kernelspec": {
   "display_name": "base",
   "language": "python",
   "name": "python3"
  },
  "language_info": {
   "codemirror_mode": {
    "name": "ipython",
    "version": 3
   },
   "file_extension": ".py",
   "mimetype": "text/x-python",
   "name": "python",
   "nbconvert_exporter": "python",
   "pygments_lexer": "ipython3",
   "version": "3.12.3"
  }
 },
 "nbformat": 4,
 "nbformat_minor": 2
}
