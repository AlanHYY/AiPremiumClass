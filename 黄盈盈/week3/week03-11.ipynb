{
 "cells": [
  {
   "cell_type": "markdown",
   "metadata": {},
   "source": [
    "pytorch fashionmnist 数据集 神经网络搭建和训练"
   ]
  },
  {
   "cell_type": "code",
   "execution_count": 2,
   "metadata": {},
   "outputs": [],
   "source": [
    "#导入必要的包\n",
    "import torch\n",
    "import torch.nn as nn\n",
    "import torch.optim as optim\n",
    "from torchvision.transforms.v2 import ToTensor  #图像的数据转换为张量\n",
    "from torchvision.datasets import KMNIST \n",
    "from torch.utils.data import DataLoader#加载数据"
   ]
  },
  {
   "cell_type": "code",
   "execution_count": 3,
   "metadata": {},
   "outputs": [],
   "source": [
    "#定义超参数\n",
    "LR = 1  # 修正后的列表\n",
    "   \n",
    "epochs = 20\n",
    "BATCH_SIZE = 128"
   ]
  },
  {
   "cell_type": "code",
   "execution_count": 4,
   "metadata": {},
   "outputs": [
    {
     "name": "stderr",
     "output_type": "stream",
     "text": [
      "d:\\tools\\miniconda\\Lib\\site-packages\\torchvision\\transforms\\v2\\_deprecated.py:42: UserWarning: The transform `ToTensor()` is deprecated and will be removed in a future release. Instead, please use `v2.Compose([v2.ToImage(), v2.ToDtype(torch.float32, scale=True)])`.Output is equivalent up to float precision.\n",
      "  warnings.warn(\n"
     ]
    }
   ],
   "source": [
    "# 加载数据集 train\n",
    "train_data = KMNIST (root='./fashion_data', train=True, download=True, transform=ToTensor())\n",
    "test_data = KMNIST (root='./fashion_data', train=False, download=True,transform=ToTensor())\n"
   ]
  },
  {
   "cell_type": "code",
   "execution_count": 6,
   "metadata": {},
   "outputs": [],
   "source": [
    "trian_dl = DataLoader(train_data, batch_size=BATCH_SIZE, shuffle=True)#加载数据"
   ]
  },
  {
   "cell_type": "code",
   "execution_count": 7,
   "metadata": {},
   "outputs": [],
   "source": [
    "#所有结构串联\n",
    "model = nn.Sequential(\n",
    "    nn.Linear(784, 60),\n",
    "    nn.Sigmoid(),\n",
    "    nn.Linear(60, 60),\n",
    "    nn.Sigmoid(),\n",
    "\n",
    "    nn.Linear(60, 10)\n",
    ")"
   ]
  },
  {
   "cell_type": "code",
   "execution_count": 8,
   "metadata": {},
   "outputs": [],
   "source": [
    "loss_fn = nn.CrossEntropyLoss()  #交叉熵损失函数\n",
    "#优化器（模型参数更新）\n",
    "optimizer = torch.optim.SGD(model.parameters(), lr=LR)  #随机梯度下降"
   ]
  },
  {
   "cell_type": "code",
   "execution_count": 9,
   "metadata": {},
   "outputs": [
    {
     "name": "stdout",
     "output_type": "stream",
     "text": [
      "Epoch:0 Loss: 0.4218185842037201\n",
      "Epoch:1 Loss: 0.33424052596092224\n",
      "Epoch:2 Loss: 0.2666585147380829\n",
      "Epoch:3 Loss: 0.4689081013202667\n",
      "Epoch:4 Loss: 0.3099763095378876\n",
      "Epoch:5 Loss: 0.2104501724243164\n",
      "Epoch:6 Loss: 0.09347221255302429\n",
      "Epoch:7 Loss: 0.11892955750226974\n",
      "Epoch:8 Loss: 0.16476218402385712\n",
      "Epoch:9 Loss: 0.11875923722982407\n",
      "Epoch:10 Loss: 0.16178955137729645\n",
      "Epoch:11 Loss: 0.17182081937789917\n",
      "Epoch:12 Loss: 0.08118346333503723\n",
      "Epoch:13 Loss: 0.08579359203577042\n",
      "Epoch:14 Loss: 0.1286991983652115\n",
      "Epoch:15 Loss: 0.15603956580162048\n",
      "Epoch:16 Loss: 0.06671005487442017\n",
      "Epoch:17 Loss: 0.05325373634696007\n",
      "Epoch:18 Loss: 0.06255584210157394\n",
      "Epoch:19 Loss: 0.11194687336683273\n"
     ]
    }
   ],
   "source": [
    "for epoch in range(epochs):\n",
    "    #提取训练数据\n",
    "  for data, target in trian_dl:\n",
    "        #前向运算\n",
    "        output = model(data.reshape(-1, 784))\n",
    "        #计算损失\n",
    "        loss = loss_fn(output, target)\n",
    "        #反向传播\n",
    "        optimizer.zero_grad()#梯度清零\n",
    "        loss.backward() #计算梯度，保存参数\n",
    "        optimizer.step() #更新参数\n",
    "\n",
    "  print(f'Epoch:{epoch} Loss: {loss.item()}')"
   ]
  },
  {
   "cell_type": "code",
   "execution_count": 10,
   "metadata": {},
   "outputs": [
    {
     "name": "stdout",
     "output_type": "stream",
     "text": [
      "Accuracy: 85.79%\n"
     ]
    }
   ],
   "source": [
    "# 测试\n",
    "test_dl = DataLoader(test_data, batch_size=BATCH_SIZE)\n",
    "\n",
    "correct = 0\n",
    "total = 0\n",
    "with torch.no_grad():  # 不计算梯度\n",
    "    for data, target in test_dl:\n",
    "        output = model(data.reshape(-1, 784))\n",
    "        _, predicted = torch.max(output, 1)  # 返回每行最大值和索引\n",
    "        total += target.size(0)  # size(0) 等效 shape[0]\n",
    "        correct += (predicted == target).sum().item()\n",
    "\n",
    "print(f'Accuracy: {correct/total*100}%')"
   ]
  },
  {
   "cell_type": "code",
   "execution_count": 11,
   "metadata": {},
   "outputs": [
    {
     "name": "stdout",
     "output_type": "stream",
     "text": [
      "Sequential(\n",
      "  (0): Linear(in_features=784, out_features=60, bias=True)\n",
      "  (1): Sigmoid()\n",
      "  (2): Linear(in_features=60, out_features=60, bias=True)\n",
      "  (3): Sigmoid()\n",
      "  (4): Linear(in_features=60, out_features=10, bias=True)\n",
      ")\n"
     ]
    }
   ],
   "source": [
    "print(model)"
   ]
  }
 ],
 "metadata": {
  "kernelspec": {
   "display_name": "base",
   "language": "python",
   "name": "python3"
  },
  "language_info": {
   "codemirror_mode": {
    "name": "ipython",
    "version": 3
   },
   "file_extension": ".py",
   "mimetype": "text/x-python",
   "name": "python",
   "nbconvert_exporter": "python",
   "pygments_lexer": "ipython3",
   "version": "3.12.3"
  }
 },
 "nbformat": 4,
 "nbformat_minor": 2
}
