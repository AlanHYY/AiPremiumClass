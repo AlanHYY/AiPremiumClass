{
 "cells": [
  {
   "cell_type": "markdown",
   "metadata": {},
   "source": [
    "pytorch fashionmnist 数据集 神经网络搭建和训练"
   ]
  },
  {
   "cell_type": "code",
   "execution_count": 9,
   "metadata": {},
   "outputs": [],
   "source": [
    "#导入必要的包\n",
    "import torch\n",
    "import torch.nn as nn\n",
    "import torch.optim as optim\n",
    "from torchvision.transforms.v2 import ToTensor  #图像的数据转换为张量\n",
    "from torchvision.datasets import KMNIST \n",
    "from torch.utils.data import DataLoader#加载数据"
   ]
  },
  {
   "cell_type": "code",
   "execution_count": 10,
   "metadata": {},
   "outputs": [],
   "source": [
    "#定义超参数\n",
    "LR = 1  # 修正后的列表\n",
    "   \n",
    "epochs = 35\n",
    "BATCH_SIZE = 128"
   ]
  },
  {
   "cell_type": "code",
   "execution_count": 11,
   "metadata": {},
   "outputs": [],
   "source": [
    "# 加载数据集 train\n",
    "train_data = KMNIST (root='./fashion_data', train=True, download=True, transform=ToTensor())\n",
    "test_data = KMNIST (root='./fashion_data', train=False, download=True,transform=ToTensor())\n"
   ]
  },
  {
   "cell_type": "code",
   "execution_count": 12,
   "metadata": {},
   "outputs": [],
   "source": [
    "trian_dl = DataLoader(train_data, batch_size=BATCH_SIZE, shuffle=True)#加载数据"
   ]
  },
  {
   "cell_type": "code",
   "execution_count": 13,
   "metadata": {},
   "outputs": [],
   "source": [
    "#所有结构串联\n",
    "model = nn.Sequential(\n",
    "    nn.Linear(784, 120),\n",
    "    nn.Sigmoid(),\n",
    "    nn.Linear(120, 120),\n",
    "    nn.Sigmoid(),\n",
    "    nn.Linear(120, 120),\n",
    "    nn.Sigmoid(),\n",
    "    nn.Linear(120, 10)\n",
    ")"
   ]
  },
  {
   "cell_type": "code",
   "execution_count": 14,
   "metadata": {},
   "outputs": [],
   "source": [
    "loss_fn = nn.CrossEntropyLoss()  #交叉熵损失函数\n",
    "#优化器（模型参数更新）\n",
    "optimizer = torch.optim.SGD(model.parameters(), lr=LR)  #随机梯度下降"
   ]
  },
  {
   "cell_type": "code",
   "execution_count": 15,
   "metadata": {},
   "outputs": [
    {
     "name": "stdout",
     "output_type": "stream",
     "text": [
      "Epoch:0 Loss: 1.869249939918518\n",
      "Epoch:1 Loss: 1.6438865661621094\n",
      "Epoch:2 Loss: 0.5397944450378418\n",
      "Epoch:3 Loss: 0.3068667948246002\n",
      "Epoch:4 Loss: 0.44136282801628113\n",
      "Epoch:5 Loss: 0.27680185437202454\n",
      "Epoch:6 Loss: 0.2257554680109024\n",
      "Epoch:7 Loss: 0.18983499705791473\n",
      "Epoch:8 Loss: 0.0656341090798378\n",
      "Epoch:9 Loss: 0.09627614170312881\n",
      "Epoch:10 Loss: 0.13966429233551025\n",
      "Epoch:11 Loss: 0.06024200841784477\n",
      "Epoch:12 Loss: 0.14297156035900116\n",
      "Epoch:13 Loss: 0.19778428971767426\n",
      "Epoch:14 Loss: 0.07264222949743271\n",
      "Epoch:15 Loss: 0.09093623608350754\n",
      "Epoch:16 Loss: 0.06721621751785278\n",
      "Epoch:17 Loss: 0.00579610513523221\n",
      "Epoch:18 Loss: 0.011914773844182491\n",
      "Epoch:19 Loss: 0.02872772514820099\n",
      "Epoch:20 Loss: 0.08019954711198807\n",
      "Epoch:21 Loss: 0.0041032349690794945\n",
      "Epoch:22 Loss: 0.007265110965818167\n",
      "Epoch:23 Loss: 0.004779564216732979\n",
      "Epoch:24 Loss: 0.012939381413161755\n",
      "Epoch:25 Loss: 0.006609012838453054\n",
      "Epoch:26 Loss: 0.009376420639455318\n",
      "Epoch:27 Loss: 0.0034462492913007736\n",
      "Epoch:28 Loss: 0.0013906373642385006\n",
      "Epoch:29 Loss: 0.09675344079732895\n",
      "Epoch:30 Loss: 0.000711339816916734\n",
      "Epoch:31 Loss: 0.0018314486369490623\n",
      "Epoch:32 Loss: 0.0008376170299015939\n",
      "Epoch:33 Loss: 0.0020447783172130585\n",
      "Epoch:34 Loss: 0.0006505338242277503\n"
     ]
    }
   ],
   "source": [
    "for epoch in range(epochs):\n",
    "    #提取训练数据\n",
    "  for data, target in trian_dl:\n",
    "        #前向运算\n",
    "        output = model(data.reshape(-1, 784))\n",
    "        #计算损失\n",
    "        loss = loss_fn(output, target)\n",
    "        #反向传播\n",
    "        optimizer.zero_grad()#梯度清零\n",
    "        loss.backward() #计算梯度，保存参数\n",
    "        optimizer.step() #更新参数\n",
    "\n",
    "  print(f'Epoch:{epoch} Loss: {loss.item()}')"
   ]
  },
  {
   "cell_type": "code",
   "execution_count": 17,
   "metadata": {},
   "outputs": [
    {
     "name": "stdout",
     "output_type": "stream",
     "text": [
      "Accuracy: 88.02%\n"
     ]
    }
   ],
   "source": [
    "# 测试\n",
    "test_dl = DataLoader(test_data, batch_size=BATCH_SIZE)\n",
    "\n",
    "correct = 0\n",
    "total = 0\n",
    "with torch.no_grad():  # 不计算梯度\n",
    "    for data, target in test_dl:\n",
    "        output = model(data.reshape(-1, 784))\n",
    "        _, predicted = torch.max(output, 1)  # 返回每行最大值和索引\n",
    "        total += target.size(0)  # size(0) 等效 shape[0]\n",
    "        correct += (predicted == target).sum().item()\n",
    "\n",
    "print(f'Accuracy: {correct/total*100}%')"
   ]
  },
  {
   "cell_type": "code",
   "execution_count": 9,
   "metadata": {},
   "outputs": [
    {
     "name": "stdout",
     "output_type": "stream",
     "text": [
      "Sequential(\n",
      "  (0): Linear(in_features=784, out_features=200, bias=True)\n",
      "  (1): Sigmoid()\n",
      "  (2): Linear(in_features=200, out_features=200, bias=True)\n",
      "  (3): Sigmoid()\n",
      "  (4): Linear(in_features=200, out_features=10, bias=True)\n",
      ")\n"
     ]
    }
   ],
   "source": [
    "print(model)"
   ]
  }
 ],
 "metadata": {
  "kernelspec": {
   "display_name": "base",
   "language": "python",
   "name": "python3"
  },
  "language_info": {
   "codemirror_mode": {
    "name": "ipython",
    "version": 3
   },
   "file_extension": ".py",
   "mimetype": "text/x-python",
   "name": "python",
   "nbconvert_exporter": "python",
   "pygments_lexer": "ipython3",
   "version": "3.12.3"
  }
 },
 "nbformat": 4,
 "nbformat_minor": 2
}
